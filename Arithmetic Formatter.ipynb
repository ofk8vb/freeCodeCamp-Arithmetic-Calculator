{
 "cells": [
  {
   "cell_type": "code",
   "execution_count": 179,
   "metadata": {},
   "outputs": [],
   "source": [
    "# problems will be a list of operations like\n",
    "# arithmetic_arranger([\"32 + 698\", \"3801 - 2\", \"45 + 43\", \"123 + 49\"])\n",
    "\n",
    "\n",
    "\n",
    "'''\n",
    "  If there are too many problems supplied to the function. The limit is five, anything more will return:\n",
    "  Error: Too many problems.\n",
    "\n",
    "  The appropriate operators the function will accept are addition and subtraction. Multiplication and division will return an error. Other operators not mentioned in this bullet point will not need to be tested. The error returned will be:\n",
    "  Error: Operator must be '+' or '-'.  \n",
    "\n",
    "\n",
    "  Each number (operand) should only contain digits. Otherwise, the function will return:\n",
    "  Error: Numbers must only contain digits.\n",
    "\n",
    "  Each operand (aka number on each side of the operator) has a max of four digits in width. Otherwise, the error string returned will be:\n",
    "  Error: Numbers cannot be more than four digits.\n",
    "'''\n",
    "\n",
    "def arithmetic_arranger(problems, answer_display=False):\n",
    "\n",
    "    if len(problems) > 5:\n",
    "        return \"Error: Too many problems.\"\n",
    "\n",
    "    problems_list = []   \n",
    "\n",
    "    line1 = []\n",
    "    line2 = []\n",
    "    line3 = []\n",
    "    answers = []\n",
    "\n",
    "    # making arithmetics depending on the operator \n",
    "    ops = {\"+\": (lambda x,y: x+y), \"-\": (lambda x,y: x-y)} \n",
    "\n",
    "    for query in problems:\n",
    "        parts = query.split()          \n",
    "        problems_list.append(parts)      \n",
    "                     \n",
    "    for prob in problems_list:\n",
    "        if prob[1] not in ops.keys():\n",
    "            return \"Error: Operator must be '+' or '-'.\"\n",
    "        if not str(prob[0]).isnumeric() or not str(prob[2]).isnumeric():\n",
    "            return \"Error: Numbers must only contain digits.\"\n",
    "        if len(prob[0]) > 4 or len(prob[2]) > 4:\n",
    "            return \"Error: Numbers cannot be more than four digits.\"\n",
    "        char_limit = int(len(prob[0]))    \n",
    "        \n",
    "        if len(prob[0]) <= len(prob[2]):\n",
    "            char_limit = int(len(prob[2]))\n",
    "        pretty_num1 = str(prob[0]).rjust(char_limit+2)       \n",
    "        line1.append(pretty_num1)                             \n",
    "\n",
    "        pretty_sec_elemem = str(prob[1])+str(prob[2]).rjust(char_limit+1)    \n",
    "        line2.append(pretty_sec_elemem)\n",
    "\n",
    "        if prob[1] in ops.keys():\n",
    "            single_ans = ops[prob[1]](int(prob[0]),int(prob[2]))\n",
    "        else:\n",
    "            pass \n",
    "\n",
    "        formated_answer = str(single_ans).rjust(char_limit+2)\n",
    "        answers.append(formated_answer)\n",
    "\n",
    "        line3.append('-'*(char_limit+2))       \n",
    "\n",
    "    first_line = '    '.join(line1)      \n",
    "    second_line = '    '.join(line2)\n",
    "    third_line = '    '.join(line3)\n",
    "    answer_line = '    '.join(answers)\n",
    "\n",
    "    final_list = [first_line, second_line, third_line, answer_line]\n",
    "\n",
    "    # removing from end of the displayed result\n",
    "    if answer_display == False:\n",
    "        final_list.pop()\n",
    "\n",
    "    formatted_result = \"\\n\".join(final_list)\n",
    "\n",
    "    return formatted_result\n",
    "\n",
    "\n"
   ]
  },
  {
   "cell_type": "code",
   "execution_count": 180,
   "metadata": {},
   "outputs": [],
   "source": [
    "arithmetic_arranger([\"32 + 698\", \"3801 - 2\", \"45 + 43\", \"123 + 49\"])"
   ]
  },
  {
   "cell_type": "code",
   "execution_count": 183,
   "metadata": {},
   "outputs": [
    {
     "name": "stdout",
     "output_type": "stream",
     "text": [
      "-\n"
     ]
    }
   ],
   "source": []
  },
  {
   "cell_type": "code",
   "execution_count": 184,
   "metadata": {},
   "outputs": [
    {
     "name": "stdout",
     "output_type": "stream",
     "text": [
      "   32      3801      45      123\n",
      "+ 698    -    2    + 43    +  49\n",
      "-----    ------    ----    -----\n"
     ]
    }
   ],
   "source": [
    "print(arithmetic_arranger([\"32 + 698\", \"3801 - 2\", \"45 + 43\", \"123 + 49\"]))"
   ]
  },
  {
   "cell_type": "code",
   "execution_count": null,
   "metadata": {},
   "outputs": [],
   "source": [
    "   32      3801      45      123\n",
    "+ 698    -    2    + 43    +  49\n",
    "-----    ------    ----    -----"
   ]
  }
 ],
 "metadata": {
  "kernelspec": {
   "display_name": "Python 3",
   "language": "python",
   "name": "python3"
  },
  "language_info": {
   "codemirror_mode": {
    "name": "ipython",
    "version": 3
   },
   "file_extension": ".py",
   "mimetype": "text/x-python",
   "name": "python",
   "nbconvert_exporter": "python",
   "pygments_lexer": "ipython3",
   "version": "3.8.5"
  }
 },
 "nbformat": 4,
 "nbformat_minor": 4
}
